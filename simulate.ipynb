{
 "cells": [
  {
   "cell_type": "code",
   "execution_count": null,
   "metadata": {},
   "outputs": [],
   "source": [
    "import pandas as pd\n",
    "from IPython.display import clear_output\n",
    "\n",
    "from ipywidgets import interact, interactive, fixed, interact_manual\n",
    "import ipywidgets as widgets\n",
    "\n",
    "from IPython.core.display import display, HTML\n",
    "display(HTML(\"<style>.container { width:100% !important; }</style>\"))\n",
    "from main import Graph"
   ]
  },
  {
   "cell_type": "code",
   "execution_count": null,
   "metadata": {},
   "outputs": [],
   "source": [
    "exec_type = widgets.ToggleButtons(\n",
    "    options={'进仓':0,'交易':1},\n",
    "    disabled=False,\n",
    "    button_style=''\n",
    ")\n",
    "qty_txt = widgets.IntText(min = 10, max = 1000, step = 10, description = '   ')\n",
    "qty_slide = widgets.IntSlider(min = 10, max = 1000, step = 10, description = '数量:')\n",
    "qty_link = widgets.jslink((qty_slide, 'value'), (qty_txt, 'value'))\n",
    "\n",
    "\n",
    "from_ = widgets.Text(\n",
    "    value='',\n",
    "    description='从:',\n",
    "    disabled=True\n",
    ")\n",
    "to_ = widgets.Text(\n",
    "    value='',\n",
    "    description='至:',\n",
    "    disabled=False\n",
    ")\n",
    "\n",
    "run_button = widgets.Button(\n",
    "    description='执行交易',\n",
    "    disabled=False,\n",
    ")\n",
    "\n",
    "undo_button = widgets.Button(\n",
    "    description='撤消',\n",
    "    disabled=False,\n",
    ")\n",
    "\n",
    "def show_status():\n",
    "    out_channel.clear_output()\n",
    "    with out_channel:\n",
    "        print(\"当前库存：\")\n",
    "        g.show_inventory()\n",
    "        print(\"\\n来源总结：\")\n",
    "        g.show_all_source()\n",
    "        print(\"\\n详细来源：\")\n",
    "        g.show_all_detailed()\n",
    "        print(\"\\n交易详情：\")\n",
    "        g.show_transactions()\n",
    "        \n",
    "def check_order_type(b):\n",
    "    if exec_type.value == 0:\n",
    "        from_.disabled = True\n",
    "        from_.value = ''\n",
    "    else:\n",
    "        from_.disabled = False\n",
    "exec_type.observe(handler=check_order_type)\n",
    "\n",
    "def undo_order(b):\n",
    "    g.undo()\n",
    "    show_status()\n",
    "    \n",
    "def run_order(b):\n",
    "    \n",
    "    f = from_.value.strip()\n",
    "    t = to_.value.strip()\n",
    "    if t == '':\n",
    "        return\n",
    "    elif f == '' and exec_type.value == 1:\n",
    "        return\n",
    "    \n",
    "    qty = qty_slide.value\n",
    "    if exec_type.value == 0:\n",
    "        g.add_source(t, qty)\n",
    "    else:\n",
    "        g.transact(f, t, qty)    \n",
    "    show_status()\n",
    "run_button.on_click(run_order)\n",
    "undo_button.on_click(undo_order)"
   ]
  },
  {
   "cell_type": "code",
   "execution_count": null,
   "metadata": {},
   "outputs": [],
   "source": [
    "g = Graph()\n",
    "display(exec_type, widgets.HBox([from_, to_]), widgets.HBox([qty_slide,qty_txt]), widgets.HBox([run_button, undo_button]))"
   ]
  },
  {
   "cell_type": "code",
   "execution_count": null,
   "metadata": {},
   "outputs": [],
   "source": [
    "out_channel = widgets.Output()\n",
    "out_channel"
   ]
  }
 ],
 "metadata": {
  "kernelspec": {
   "display_name": "Python 3",
   "language": "python",
   "name": "python3"
  },
  "language_info": {
   "codemirror_mode": {
    "name": "ipython",
    "version": 3
   },
   "file_extension": ".py",
   "mimetype": "text/x-python",
   "name": "python",
   "nbconvert_exporter": "python",
   "pygments_lexer": "ipython3",
   "version": "3.6.4"
  }
 },
 "nbformat": 4,
 "nbformat_minor": 2
}
