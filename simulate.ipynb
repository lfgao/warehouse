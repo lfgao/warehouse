{
 "cells": [
  {
   "cell_type": "code",
   "execution_count": 1,
   "metadata": {},
   "outputs": [
    {
     "data": {
      "text/html": [
       "<style>.container { width:100% !important; }</style>"
      ],
      "text/plain": [
       "<IPython.core.display.HTML object>"
      ]
     },
     "metadata": {},
     "output_type": "display_data"
    }
   ],
   "source": [
    "import pandas as pd\n",
    "from IPython.display import clear_output\n",
    "\n",
    "from ipywidgets import interact, interactive, fixed, interact_manual\n",
    "import ipywidgets as widgets\n",
    "\n",
    "from IPython.core.display import display, HTML\n",
    "display(HTML(\"<style>.container { width:100% !important; }</style>\"))\n",
    "from main import Graph"
   ]
  },
  {
   "cell_type": "code",
   "execution_count": 2,
   "metadata": {},
   "outputs": [],
   "source": [
    "exec_type = widgets.ToggleButtons(\n",
    "    options={'进仓':0,'交易':1},\n",
    "    disabled=False,\n",
    "    button_style=''\n",
    ")\n",
    "qty_txt = widgets.IntText(min = 10, max = 1000, step = 10, description = '   ')\n",
    "qty_slide = widgets.IntSlider(min = 10, max = 1000, step = 10, description = '数量:')\n",
    "qty_link = widgets.jslink((qty_slide, 'value'), (qty_txt, 'value'))\n",
    "\n",
    "\n",
    "from_ = widgets.Text(\n",
    "    value='',\n",
    "    description='从:',\n",
    "    disabled=True\n",
    ")\n",
    "to_ = widgets.Text(\n",
    "    value='',\n",
    "    description='至:',\n",
    "    disabled=False\n",
    ")\n",
    "\n",
    "run_button = widgets.Button(\n",
    "    description='执行交易',\n",
    "    disabled=False,\n",
    ")\n",
    "\n",
    "undo_button = widgets.Button(\n",
    "    description='撤消',\n",
    "    disabled=False,\n",
    ")\n",
    "\n",
    "reset_button = widgets.Button(\n",
    "    description='重置所有',\n",
    "    button_style='danger', # 'success', 'info', 'warning', 'danger' or ''\n",
    "    disabled=False,\n",
    ")\n",
    "\n",
    "def show_status():\n",
    "    out_channel.clear_output()\n",
    "    with out_channel:\n",
    "        print(\"当前库存：\")\n",
    "        g.show_inventory()\n",
    "        print(\"\\n来源总结：\")\n",
    "        g.show_all_source()\n",
    "        print(\"\\n详细来源：\")\n",
    "        g.show_all_detailed()\n",
    "        print(\"\\n交易详情：\")\n",
    "        g.show_transactions()\n",
    "        \n",
    "def check_order_type(b):\n",
    "    if exec_type.value == 0:\n",
    "        from_.disabled = True\n",
    "        from_.value = ''\n",
    "    else:\n",
    "        from_.disabled = False\n",
    "exec_type.observe(handler=check_order_type)\n",
    "\n",
    "def undo_order(b):\n",
    "    g.undo()\n",
    "    show_status()\n",
    "def reset_all(b):\n",
    "    g.reset()\n",
    "    show_status()\n",
    "    \n",
    "\n",
    "def run_order(b):\n",
    "    \n",
    "    f = from_.value.strip()\n",
    "    t = to_.value.strip()\n",
    "    if t == '':\n",
    "        return\n",
    "    elif f == '' and exec_type.value == 1:\n",
    "        return\n",
    "    \n",
    "    qty = qty_slide.value\n",
    "    if exec_type.value == 0:\n",
    "        g.add_source(t, qty)\n",
    "    else:\n",
    "        g.transact(f, t, qty)    \n",
    "    show_status()\n",
    "run_button.on_click(run_order)\n",
    "undo_button.on_click(undo_order)\n",
    "reset_button.on_click(reset_all)"
   ]
  },
  {
   "cell_type": "code",
   "execution_count": 3,
   "metadata": {},
   "outputs": [
    {
     "data": {
      "application/vnd.jupyter.widget-view+json": {
       "model_id": "416281d9ffcd4815b7ded51c4072879e",
       "version_major": 2,
       "version_minor": 0
      },
      "text/plain": [
       "Button(button_style='danger', description='重置所有', style=ButtonStyle())"
      ]
     },
     "metadata": {},
     "output_type": "display_data"
    },
    {
     "data": {
      "application/vnd.jupyter.widget-view+json": {
       "model_id": "68a63db4b685481ba518756a69c1738a",
       "version_major": 2,
       "version_minor": 0
      },
      "text/plain": [
       "ToggleButtons(options={'进仓': 0, '交易': 1}, value=0)"
      ]
     },
     "metadata": {},
     "output_type": "display_data"
    },
    {
     "data": {
      "application/vnd.jupyter.widget-view+json": {
       "model_id": "bfcadb7b7f9548a8ad3224bb1a93a2f1",
       "version_major": 2,
       "version_minor": 0
      },
      "text/plain": [
       "HBox(children=(Text(value='', description='从:', disabled=True), Text(value='', description='至:')))"
      ]
     },
     "metadata": {},
     "output_type": "display_data"
    },
    {
     "data": {
      "application/vnd.jupyter.widget-view+json": {
       "model_id": "6a45c4e5e02e41759ba8c4d1c92ea4f2",
       "version_major": 2,
       "version_minor": 0
      },
      "text/plain": [
       "HBox(children=(IntSlider(value=10, description='数量:', max=1000, min=10, step=10), IntText(value=10, descriptio…"
      ]
     },
     "metadata": {},
     "output_type": "display_data"
    },
    {
     "data": {
      "application/vnd.jupyter.widget-view+json": {
       "model_id": "c45e58c0576f4f9b876f8f115caea87d",
       "version_major": 2,
       "version_minor": 0
      },
      "text/plain": [
       "HBox(children=(Button(description='执行交易', style=ButtonStyle()), Button(description='撤消', style=ButtonStyle()))…"
      ]
     },
     "metadata": {},
     "output_type": "display_data"
    }
   ],
   "source": [
    "g = Graph()\n",
    "display(reset_button, exec_type, widgets.HBox([from_, to_]), widgets.HBox([qty_slide,qty_txt]), widgets.HBox([run_button, undo_button]))"
   ]
  },
  {
   "cell_type": "code",
   "execution_count": 4,
   "metadata": {},
   "outputs": [
    {
     "data": {
      "application/vnd.jupyter.widget-view+json": {
       "model_id": "267249b201754a1b8be295c8b0885ff4",
       "version_major": 2,
       "version_minor": 0
      },
      "text/plain": [
       "Output()"
      ]
     },
     "metadata": {},
     "output_type": "display_data"
    }
   ],
   "source": [
    "out_channel = widgets.Output()\n",
    "out_channel"
   ]
  }
 ],
 "metadata": {
  "kernelspec": {
   "display_name": "Python 3",
   "language": "python",
   "name": "python3"
  },
  "language_info": {
   "codemirror_mode": {
    "name": "ipython",
    "version": 3
   },
   "file_extension": ".py",
   "mimetype": "text/x-python",
   "name": "python",
   "nbconvert_exporter": "python",
   "pygments_lexer": "ipython3",
   "version": "3.6.4"
  }
 },
 "nbformat": 4,
 "nbformat_minor": 2
}
